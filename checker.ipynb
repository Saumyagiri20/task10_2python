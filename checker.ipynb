{
 "cells": [
  {
   "cell_type": "code",
   "execution_count": 2,
   "id": "540ab613-194f-448b-b105-b3b1efe09825",
   "metadata": {},
   "outputs": [],
   "source": [
    "def is_palindrome(s: str) -> bool:\n",
    "    # Filter out non-alphanumeric characters and convert to lowercase\n",
    "    filtered_chars = [char.lower() for char in s if char.isalnum()]\n",
    "    \n",
    "    # Check if the filtered list is equal to its reverse\n",
    "    return filtered_chars == filtered_chars[::-1]\n",
    "\n"
   ]
  },
  {
   "cell_type": "code",
   "execution_count": 3,
   "id": "319ccba0-5b60-4796-8fbc-c3f5ce3a4b42",
   "metadata": {},
   "outputs": [
    {
     "name": "stdout",
     "output_type": "stream",
     "text": [
      "True\n",
      "False\n",
      "True\n",
      "False\n"
     ]
    }
   ],
   "source": [
    "# Test cases\n",
    "print(is_palindrome(\"ARA\"))  # True\n",
    "print(is_palindrome(\"ARV\"))  # False\n",
    "print(is_palindrome(\"A man, a plan, a canal: Panama\"))  # True\n",
    "print(is_palindrome(\"race a car\"))  # False\n"
   ]
  },
  {
   "cell_type": "code",
   "execution_count": null,
   "id": "24aa0ec0-1a12-4318-9880-fa2645ab5d76",
   "metadata": {},
   "outputs": [],
   "source": []
  }
 ],
 "metadata": {
  "kernelspec": {
   "display_name": "Python 3 (ipykernel)",
   "language": "python",
   "name": "python3"
  },
  "language_info": {
   "codemirror_mode": {
    "name": "ipython",
    "version": 3
   },
   "file_extension": ".py",
   "mimetype": "text/x-python",
   "name": "python",
   "nbconvert_exporter": "python",
   "pygments_lexer": "ipython3",
   "version": "3.11.7"
  }
 },
 "nbformat": 4,
 "nbformat_minor": 5
}
